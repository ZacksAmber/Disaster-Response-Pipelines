{
 "cells": [
  {
   "cell_type": "code",
   "execution_count": 1,
   "id": "99163bdb-7d5d-4100-a4fc-cf7ac417b287",
   "metadata": {},
   "outputs": [],
   "source": [
    "from pyspark.sql import SparkSession"
   ]
  },
  {
   "cell_type": "code",
   "execution_count": 2,
   "id": "0c7e3598-8555-413b-85e0-f6e562c5df07",
   "metadata": {},
   "outputs": [
    {
     "name": "stderr",
     "output_type": "stream",
     "text": [
      "WARNING: An illegal reflective access operation has occurred\n",
      "WARNING: Illegal reflective access by org.apache.spark.unsafe.Platform (file:/usr/local/lib/python3.9/site-packages/pyspark/jars/spark-unsafe_2.12-3.2.0.jar) to constructor java.nio.DirectByteBuffer(long,int)\n",
      "WARNING: Please consider reporting this to the maintainers of org.apache.spark.unsafe.Platform\n",
      "WARNING: Use --illegal-access=warn to enable warnings of further illegal reflective access operations\n",
      "WARNING: All illegal access operations will be denied in a future release\n",
      "22/01/19 14:29:12 WARN NativeCodeLoader: Unable to load native-hadoop library for your platform... using builtin-java classes where applicable\n",
      "Using Spark's default log4j profile: org/apache/spark/log4j-defaults.properties\n",
      "Setting default log level to \"WARN\".\n",
      "To adjust logging level use sc.setLogLevel(newLevel). For SparkR, use setLogLevel(newLevel).\n"
     ]
    }
   ],
   "source": [
    "connector_path = \"/Users/zacks/Desktop/Data Science Projects/Disaster-Response-Pipelines/code/mysql-connector-java-8.0.28/mysql-connector-java-8.0.28.jar\"\n",
    "\n",
    "spark = SparkSession.builder \\\n",
    "    .master(\"local\") \\\n",
    "    .appName(\"LeetCode\") \\\n",
    "    .config(\"spark.jars\", connector_path) \\\n",
    "    .getOrCreate()\n",
    "sc = spark.sparkContext\n",
    "\n",
    "sc.setLogLevel('ERROR')"
   ]
  },
  {
   "cell_type": "code",
   "execution_count": null,
   "id": "ea52a41b-da77-4b0b-971e-d2016614769c",
   "metadata": {},
   "outputs": [],
   "source": []
  },
  {
   "cell_type": "code",
   "execution_count": 9,
   "id": "93ccf4b8-0353-4b76-9a0a-be1f714d01c2",
   "metadata": {},
   "outputs": [],
   "source": [
    "# MySQL Driver\n",
    "driver = \"com.mysql.cj.jdbc.Driver\"\n",
    "db = \"LeetCode\"\n",
    "url = f\"jdbc:mysql://localhost:3306/{db}\"\n",
    "tb = \"Orders\"\n",
    "user = \"root\"\n",
    "password = \"00GUNDAM7Sword/GM\""
   ]
  },
  {
   "cell_type": "code",
   "execution_count": 7,
   "id": "f2d131ab-2c80-4a1f-806f-14c535cd7283",
   "metadata": {},
   "outputs": [],
   "source": [
    "df = spark.read.format(\"jdbc\").options(\n",
    "    driver=driver, \n",
    "    url=url, \n",
    "    dbtable=tb, \n",
    "    user=user, \n",
    "    password=password\n",
    ").load()"
   ]
  },
  {
   "cell_type": "code",
   "execution_count": 8,
   "id": "2cabcb52-0551-40c5-b9dc-ede8a4e88d3c",
   "metadata": {},
   "outputs": [
    {
     "name": "stdout",
     "output_type": "stream",
     "text": [
      "+--------+----------+-------+--------+---------+\n",
      "|order_id|order_date|item_id|buyer_id|seller_id|\n",
      "+--------+----------+-------+--------+---------+\n",
      "|       1|2018-08-17|     13|       3|      110|\n",
      "|       2|2019-07-24|     59|     181|       56|\n",
      "|       3|2018-10-07|     98|     109|      182|\n",
      "|       4|2018-12-07|     36|     114|      152|\n",
      "|       5|2019-08-01|     61|     132|       63|\n",
      "|       6|2019-02-24|     28|     137|      105|\n",
      "|       7|2019-04-16|     66|     119|       26|\n",
      "|       8|2019-07-18|     28|     137|        8|\n",
      "|       9|2019-05-20|     48|     139|       20|\n",
      "|      10|2019-05-10|     26|      10|       37|\n",
      "|      11|2018-11-25|     86|      33|      195|\n",
      "|      12|2019-02-27|     28|     124|       11|\n",
      "|      13|2018-09-24|     60|     138|      198|\n",
      "|      14|2019-03-20|     63|      19|      166|\n",
      "|      15|2019-07-15|     51|     182|       73|\n",
      "|      16|2019-04-03|     78|      89|      153|\n",
      "|      17|2018-10-14|     70|     128|       54|\n",
      "|      18|2019-01-11|     59|     133|      151|\n",
      "|      19|2019-07-20|     88|     179|      172|\n",
      "|      20|2018-12-07|      2|      95|      185|\n",
      "+--------+----------+-------+--------+---------+\n",
      "only showing top 20 rows\n",
      "\n"
     ]
    }
   ],
   "source": [
    "df.show()"
   ]
  },
  {
   "cell_type": "markdown",
   "id": "0c18185d-ad34-44b2-aeb5-d22a6f7f1dd8",
   "metadata": {},
   "source": [
    "---"
   ]
  },
  {
   "cell_type": "code",
   "execution_count": 1,
   "id": "1ae746bf-67d1-4b99-b6c7-c56fa2eb6ee1",
   "metadata": {},
   "outputs": [],
   "source": [
    "from pyspark.sql import SparkSession"
   ]
  },
  {
   "cell_type": "code",
   "execution_count": 2,
   "id": "657deda8-37ec-45cb-973c-465931f5729d",
   "metadata": {},
   "outputs": [
    {
     "name": "stderr",
     "output_type": "stream",
     "text": [
      "WARNING: An illegal reflective access operation has occurred\n",
      "WARNING: Illegal reflective access by org.apache.spark.unsafe.Platform (file:/usr/local/lib/python3.9/site-packages/pyspark/jars/spark-unsafe_2.12-3.2.0.jar) to constructor java.nio.DirectByteBuffer(long,int)\n",
      "WARNING: Please consider reporting this to the maintainers of org.apache.spark.unsafe.Platform\n",
      "WARNING: Use --illegal-access=warn to enable warnings of further illegal reflective access operations\n",
      "WARNING: All illegal access operations will be denied in a future release\n",
      "22/01/19 14:42:21 WARN NativeCodeLoader: Unable to load native-hadoop library for your platform... using builtin-java classes where applicable\n",
      "Using Spark's default log4j profile: org/apache/spark/log4j-defaults.properties\n",
      "Setting default log level to \"WARN\".\n",
      "To adjust logging level use sc.setLogLevel(newLevel). For SparkR, use setLogLevel(newLevel).\n"
     ]
    }
   ],
   "source": [
    "connector_path = \"/Users/zacks/Desktop/Data Science Projects/Disaster-Response-Pipelines/code/sqlite-jdbc-3.36.0.3.jar\"\n",
    "\n",
    "spark = SparkSession.builder \\\n",
    "    .master(\"local\") \\\n",
    "    .appName(\"LeetCode\") \\\n",
    "    .config(\"spark.jars\", connector_path) \\\n",
    "    .getOrCreate()\n",
    "sc = spark.sparkContext\n",
    "\n",
    "sc.setLogLevel('ERROR')"
   ]
  },
  {
   "cell_type": "code",
   "execution_count": 3,
   "id": "f4abaa5a-9ba1-4374-8dd8-df4eba8e8394",
   "metadata": {},
   "outputs": [],
   "source": [
    "# SQLite Driver\n",
    "driver = \"org.sqlite.JDBC\"\n",
    "db_path =  \"/Users/zacks/Desktop/Data Science Projects/Disaster-Response-Pipelines/code/disaster_response.db\"\n",
    "url = f\"jdbc:sqlite:{db_path}\"\n",
    "tb = \"disaster_response\""
   ]
  },
  {
   "cell_type": "code",
   "execution_count": 4,
   "id": "186fa909-fa9a-4bfa-a517-c01060f59983",
   "metadata": {},
   "outputs": [],
   "source": [
    "df = spark.read.format(\"jdbc\").options(\n",
    "    driver=driver, \n",
    "    url=url, \n",
    "    dbtable=tb\n",
    ").load()"
   ]
  },
  {
   "cell_type": "code",
   "execution_count": 5,
   "id": "bd6dc2df-69ad-4be7-aae2-287bfccf57d7",
   "metadata": {},
   "outputs": [
    {
     "name": "stdout",
     "output_type": "stream",
     "text": [
      "+---+--------------------+--------------------+------+-------+-------+-----+-----------+------------+----------------+-----------------+--------+--------+-----------+-----+----+-------+--------+-----+--------------+--------+-----+---------+----------------------+---------+---------+-----------+-----+---------+-----+-----------+--------------------+---------------+------+-----+----+----------+----+-------------+-------------+\n",
      "| id|             message|            original| genre|related|request|offer|aid_related|medical_help|medical_products|search_and_rescue|security|military|child_alone|water|food|shelter|clothing|money|missing_people|refugees|death|other_aid|infrastructure_related|transport|buildings|electricity|tools|hospitals|shops|aid_centers|other_infrastructure|weather_related|floods|storm|fire|earthquake|cold|other_weather|direct_report|\n",
      "+---+--------------------+--------------------+------+-------+-------+-----+-----------+------------+----------------+-----------------+--------+--------+-----------+-----+----+-------+--------+-----+--------------+--------+-----+---------+----------------------+---------+---------+-----------+-----+---------+-----+-----------+--------------------+---------------+------+-----+----+----------+----+-------------+-------------+\n",
      "|  2|Weather update - ...|Un front froid se...|direct|      1|      0|    0|          0|           0|               0|                0|       0|       0|          0|    0|   0|      0|       0|    0|             0|       0|    0|        0|                     0|        0|        0|          0|    0|        0|    0|          0|                   0|              0|     0|    0|   0|         0|   0|            0|            0|\n",
      "|  7|Is the Hurricane ...|Cyclone nan fini ...|direct|      1|      0|    0|          1|           0|               0|                0|       0|       0|          0|    0|   0|      0|       0|    0|             0|       0|    0|        1|                     0|        0|        0|          0|    0|        0|    0|          0|                   0|              1|     0|    1|   0|         0|   0|            0|            0|\n",
      "|  8|Looking for someo...|Patnm, di Maryani...|direct|      1|      0|    0|          0|           0|               0|                0|       0|       0|          0|    0|   0|      0|       0|    0|             0|       0|    0|        0|                     0|        0|        0|          0|    0|        0|    0|          0|                   0|              0|     0|    0|   0|         0|   0|            0|            0|\n",
      "|  9|UN reports Leogan...|UN reports Leogan...|direct|      1|      1|    0|          1|           0|               1|                0|       0|       0|          0|    0|   0|      0|       0|    0|             0|       0|    0|        1|                     1|        0|        1|          0|    0|        1|    0|          0|                   0|              0|     0|    0|   0|         0|   0|            0|            0|\n",
      "| 12|says: west side o...|facade ouest d Ha...|direct|      1|      0|    0|          0|           0|               0|                0|       0|       0|          0|    0|   0|      0|       0|    0|             0|       0|    0|        0|                     0|        0|        0|          0|    0|        0|    0|          0|                   0|              0|     0|    0|   0|         0|   0|            0|            0|\n",
      "| 14|Information about...|Informtion au niv...|direct|      0|      0|    0|          0|           0|               0|                0|       0|       0|          0|    0|   0|      0|       0|    0|             0|       0|    0|        0|                     0|        0|        0|          0|    0|        0|    0|          0|                   0|              0|     0|    0|   0|         0|   0|            0|            0|\n",
      "| 15|Storm at sacred h...|Cyclone Coeur sac...|direct|      1|      0|    0|          0|           0|               0|                0|       0|       0|          0|    0|   0|      0|       0|    0|             0|       0|    0|        0|                     0|        0|        0|          0|    0|        0|    0|          0|                   0|              1|     0|    1|   0|         0|   0|            0|            0|\n",
      "| 16|Please, we need t...|Tanpri nou bezwen...|direct|      1|      1|    0|          1|           0|               0|                0|       0|       0|          0|    1|   0|      1|       0|    0|             0|       0|    0|        0|                     0|        0|        0|          0|    0|        0|    0|          0|                   0|              0|     0|    0|   0|         0|   0|            0|            1|\n",
      "| 17|I would like to r...|Mwen ta renmen jo...|direct|      0|      0|    0|          0|           0|               0|                0|       0|       0|          0|    0|   0|      0|       0|    0|             0|       0|    0|        0|                     0|        0|        0|          0|    0|        0|    0|          0|                   0|              0|     0|    0|   0|         0|   0|            0|            0|\n",
      "| 18|I am in Croix-des...|Nou kwadebouke, n...|direct|      1|      1|    0|          1|           1|               1|                0|       0|       0|          0|    0|   0|      0|       0|    0|             0|       0|    0|        0|                     0|        0|        0|          0|    0|        0|    0|          0|                   0|              0|     0|    0|   0|         0|   0|            0|            1|\n",
      "| 20|There's nothing t...|Bon repo pa gen a...|direct|      1|      1|    0|          1|           1|               1|                0|       0|       0|          0|    1|   1|      0|       0|    0|             0|       0|    0|        1|                     1|        1|        1|          0|    0|        0|    0|          0|                   1|              1|     1|    0|   0|         0|   0|            0|            1|\n",
      "| 21|I am in Petionvil...|M nan pv mvle pli...|direct|      0|      0|    0|          0|           0|               0|                0|       0|       0|          0|    0|   0|      0|       0|    0|             0|       0|    0|        0|                     0|        0|        0|          0|    0|        0|    0|          0|                   0|              0|     0|    0|   0|         0|   0|            0|            0|\n",
      "| 22|I am in Thomassin...|Mwen thomassin 32...|direct|      1|      1|    0|          1|           0|               0|                0|       0|       0|          0|    1|   0|      0|       0|    0|             0|       0|    0|        0|                     0|        0|        0|          0|    0|        0|    0|          0|                   0|              0|     0|    0|   0|         0|   0|            0|            1|\n",
      "| 24|Let's do it toget...|Ann fel ansanm be...|direct|      1|      1|    0|          1|           0|               0|                0|       0|       0|          0|    0|   1|      0|       0|    0|             0|       0|    0|        0|                     0|        0|        0|          0|    0|        0|    0|          0|                   0|              0|     0|    0|   0|         0|   0|            0|            1|\n",
      "| 25|More information ...|gen plis enfomasy...|direct|      1|      0|    0|          0|           0|               0|                0|       0|       0|          0|    0|   0|      0|       0|    0|             0|       0|    0|        0|                     0|        0|        0|          0|    0|        0|    0|          0|                   0|              0|     0|    0|   0|         0|   0|            0|            0|\n",
      "| 26|A Comitee in Delm...|Komite katye delm...|direct|      1|      1|    0|          1|           0|               1|                0|       0|       0|          0|    1|   1|      1|       1|    0|             0|       0|    0|        0|                     0|        0|        0|          0|    0|        0|    0|          0|                   0|              0|     0|    0|   0|         0|   0|            0|            1|\n",
      "| 27|We need food and ...|Nou bezwen mange ...|direct|      1|      1|    0|          1|           1|               0|                0|       0|       0|          0|    1|   1|      0|       0|    0|             0|       0|    0|        0|                     0|        0|        0|          0|    0|        0|    0|          0|                   0|              0|     0|    0|   0|         0|   0|            0|            1|\n",
      "| 28|are you going to ...|Eske se rele nap ...|direct|      0|      0|    0|          0|           0|               0|                0|       0|       0|          0|    0|   0|      0|       0|    0|             0|       0|    0|        0|                     0|        0|        0|          0|    0|        0|    0|          0|                   0|              0|     0|    0|   0|         0|   0|            0|            0|\n",
      "| 30|I don't understan...|Mwen pa konprann ...|direct|      0|      0|    0|          0|           0|               0|                0|       0|       0|          0|    0|   0|      0|       0|    0|             0|       0|    0|        0|                     0|        0|        0|          0|    0|        0|    0|          0|                   0|              0|     0|    0|   0|         0|   0|            0|            0|\n",
      "| 31|I would like to k...|Mwen ta remen con...|direct|      1|      0|    0|          0|           0|               0|                0|       0|       0|          0|    0|   0|      0|       0|    0|             0|       0|    0|        0|                     0|        0|        0|          0|    0|        0|    0|          0|                   0|              1|     0|    0|   0|         1|   0|            0|            0|\n",
      "+---+--------------------+--------------------+------+-------+-------+-----+-----------+------------+----------------+-----------------+--------+--------+-----------+-----+----+-------+--------+-----+--------------+--------+-----+---------+----------------------+---------+---------+-----------+-----+---------+-----+-----------+--------------------+---------------+------+-----+----+----------+----+-------------+-------------+\n",
      "only showing top 20 rows\n",
      "\n"
     ]
    }
   ],
   "source": [
    "df.show()"
   ]
  },
  {
   "cell_type": "code",
   "execution_count": null,
   "id": "113e256a-4b99-4adb-928d-6d47b9bf88c3",
   "metadata": {},
   "outputs": [],
   "source": []
  },
  {
   "cell_type": "code",
   "execution_count": null,
   "id": "6e327156-2fe7-4a28-9863-c19d2e8b2217",
   "metadata": {},
   "outputs": [],
   "source": []
  }
 ],
 "metadata": {
  "kernelspec": {
   "display_name": "Python 3 (ipykernel)",
   "language": "python",
   "name": "python3"
  },
  "language_info": {
   "codemirror_mode": {
    "name": "ipython",
    "version": 3
   },
   "file_extension": ".py",
   "mimetype": "text/x-python",
   "name": "python",
   "nbconvert_exporter": "python",
   "pygments_lexer": "ipython3",
   "version": "3.9.9"
  }
 },
 "nbformat": 4,
 "nbformat_minor": 5
}
