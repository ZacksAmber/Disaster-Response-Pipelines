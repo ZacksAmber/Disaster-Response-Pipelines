{
 "cells": [
  {
   "cell_type": "code",
   "execution_count": 37,
   "id": "6d70906e-23f4-4e99-9bb0-c9a3ab79d9c3",
   "metadata": {},
   "outputs": [],
   "source": [
    "from sklearn.metrics import classification_report, accuracy_score, precision_score, recall_score, f1_score, average_precision_score, multilabel_confusion_matrix, roc_auc_score"
   ]
  },
  {
   "cell_type": "code",
   "execution_count": 41,
   "id": "7ec8103e-e3d4-4149-8c02-c982d1e787d5",
   "metadata": {},
   "outputs": [],
   "source": [
    "y_true = [0, 1, 2, 0, 1, 2]\n",
    "y_pred = [0, 2, 1, 0, 0, 1]\n",
    "\n",
    "tp = 0\n",
    "tn = 2\n",
    "fp = 0\n",
    "fn = 1"
   ]
  },
  {
   "cell_type": "code",
   "execution_count": 42,
   "id": "fde1a9d8-dd46-47dd-8d7c-94c0fbbeff1f",
   "metadata": {},
   "outputs": [
    {
     "data": {
      "text/plain": [
       "0.3333333333333333"
      ]
     },
     "execution_count": 42,
     "metadata": {},
     "output_type": "execute_result"
    }
   ],
   "source": [
    "# (tp + tn) / (tp + tn + fp + fn)\n",
    "accuracy_score(y_true, y_pred)"
   ]
  },
  {
   "cell_type": "code",
   "execution_count": 45,
   "id": "f0c93b4f-ebe0-48e7-a507-bbffec938121",
   "metadata": {},
   "outputs": [
    {
     "data": {
      "text/plain": [
       "0.2222222222222222"
      ]
     },
     "execution_count": 45,
     "metadata": {},
     "output_type": "execute_result"
    }
   ],
   "source": [
    "# tp / (tp + fp)\n",
    "precision_score(y_true, y_pred, average='macro')"
   ]
  },
  {
   "cell_type": "code",
   "execution_count": 48,
   "id": "ce0c9cc6-5451-4ac1-be15-93ce101d747e",
   "metadata": {},
   "outputs": [
    {
     "data": {
      "text/plain": [
       "0.3333333333333333"
      ]
     },
     "execution_count": 48,
     "metadata": {},
     "output_type": "execute_result"
    }
   ],
   "source": [
    "# tp / (tp + fn)\n",
    "recall_score(y_true, y_pred, average='weighted')"
   ]
  },
  {
   "cell_type": "code",
   "execution_count": null,
   "id": "9315c011-fa4b-4892-8fa4-2129c47c564d",
   "metadata": {},
   "outputs": [],
   "source": [
    ">>> precision_score(y_true, y_pred, average='macro')\n",
    "0.22...\n",
    ">>> precision_score(y_true, y_pred, average='micro')\n",
    "0.33...\n",
    ">>> precision_score(y_true, y_pred, average='weighted')\n",
    "0.22..."
   ]
  }
 ],
 "metadata": {
  "kernelspec": {
   "display_name": "Python 3 (ipykernel)",
   "language": "python",
   "name": "python3"
  },
  "language_info": {
   "codemirror_mode": {
    "name": "ipython",
    "version": 3
   },
   "file_extension": ".py",
   "mimetype": "text/x-python",
   "name": "python",
   "nbconvert_exporter": "python",
   "pygments_lexer": "ipython3",
   "version": "3.9.10"
  }
 },
 "nbformat": 4,
 "nbformat_minor": 5
}
